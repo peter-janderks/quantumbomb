{
 "cells": [
  {
   "cell_type": "markdown",
   "metadata": {},
   "source": [
    "# ProjectQ Demo\n",
    "## Compiling code for IBM QE"
   ]
  },
  {
   "cell_type": "markdown",
   "metadata": {},
   "source": [
    "Import the IBM setup, the gates, and the compiler engine:"
   ]
  },
  {
   "cell_type": "code",
   "execution_count": 1,
   "metadata": {
    "collapsed": false
   },
   "outputs": [],
   "source": [
    "from projectq.setups.ibm import IBMBackend\n",
    "from projectq.ops import Measure, Entangle\n",
    "from projectq import MainEngine"
   ]
  },
  {
   "cell_type": "markdown",
   "metadata": {},
   "source": [
    "Create the compiler using the default compiler engines for the IBM backend and allocate a quantum register of 3 qubits:"
   ]
  },
  {
   "cell_type": "code",
   "execution_count": 2,
   "metadata": {
    "collapsed": false
   },
   "outputs": [],
   "source": [
    "engine = MainEngine(IBMBackend(use_hardware=True, num_runs=1024, verbose=True))\n",
    "qureg = engine.allocate_qureg(3)"
   ]
  },
  {
   "cell_type": "markdown",
   "metadata": {
    "collapsed": false,
    "scrolled": true
   },
   "source": [
    "Entangle the quantum register:"
   ]
  },
  {
   "cell_type": "code",
   "execution_count": 3,
   "metadata": {
    "collapsed": false
   },
   "outputs": [],
   "source": [
    "Entangle | qureg"
   ]
  },
  {
   "cell_type": "markdown",
   "metadata": {
    "collapsed": true
   },
   "source": [
    "Measure the quantum register and run the circuit:"
   ]
  },
  {
   "cell_type": "code",
   "execution_count": 4,
   "metadata": {
    "collapsed": false
   },
   "outputs": [
    {
     "name": "stdout",
     "output_type": "stream",
     "text": [
      "Authenticating...\n",
      "Saving code...\n",
      "Running code...\n",
      "Waiting for results...\n",
      "Done.\n",
      "000 with p = 0.4287109375\n",
      "001 with p = 0.0078125\n",
      "010 with p = 0.0166015625\n",
      "011 with p = 0.056640625\n",
      "100 with p = 0.076171875\n",
      "101 with p = 0.0322265625\n",
      "110 with p = 0.0244140625\n",
      "111 with p = 0.357421875\n"
     ]
    }
   ],
   "source": [
    "Measure | qureg\n",
    "engine.flush()"
   ]
  },
  {
   "cell_type": "markdown",
   "metadata": {},
   "source": [
    "Output the measurement result:"
   ]
  },
  {
   "cell_type": "code",
   "execution_count": 5,
   "metadata": {
    "collapsed": false
   },
   "outputs": [
    {
     "name": "stdout",
     "output_type": "stream",
     "text": [
      "[0, 1, 0]\n"
     ]
    }
   ],
   "source": [
    "print([int(q) for q in qureg])"
   ]
  },
  {
   "cell_type": "markdown",
   "metadata": {
    "collapsed": true
   },
   "source": [
    "## Custom compiler engines and backends"
   ]
  },
  {
   "cell_type": "markdown",
   "metadata": {},
   "source": [
    "Let's modify the compiler engines:"
   ]
  },
  {
   "cell_type": "code",
   "execution_count": 6,
   "metadata": {
    "collapsed": true
   },
   "outputs": [],
   "source": [
    "from projectq.cengines import AutoReplacer, LocalOptimizer\n",
    "from projectq.setups.ibm import IBMCNOTMapper\n",
    "from projectq.backends import CommandPrinter, Simulator\n",
    "\n",
    "compilerengines = [AutoReplacer(), IBMCNOTMapper(), LocalOptimizer(5), CommandPrinter()]"
   ]
  },
  {
   "cell_type": "markdown",
   "metadata": {},
   "source": [
    "... and create a new compiler to compile our code for the simulator (run locally):"
   ]
  },
  {
   "cell_type": "code",
   "execution_count": 7,
   "metadata": {
    "collapsed": false
   },
   "outputs": [
    {
     "name": "stdout",
     "output_type": "stream",
     "text": [
      "Allocate | Qubit[0]\n",
      "Allocate | Qubit[1]\n",
      "H | Qubit[1]\n",
      "CX | ( Qubit[1], Qubit[0] )\n",
      "Allocate | Qubit[2]\n",
      "H | Qubit[2]\n",
      "CX | ( Qubit[2], Qubit[0] )\n",
      "H | Qubit[0]\n",
      "H | Qubit[1]\n",
      "H | Qubit[2]\n",
      "Measure | Qureg[0, 1, 2]\n",
      "\n",
      "Measurement result: [0, 0, 0]\n",
      "\n",
      "Deallocate | Qubit[2]\n",
      "Deallocate | Qubit[1]\n",
      "Deallocate | Qubit[0]\n"
     ]
    }
   ],
   "source": [
    "engine = MainEngine(Simulator(rnd_seed = 1), compilerengines) # create compiler\n",
    "\n",
    "qureg = engine.allocate_qureg(3) # allocate\n",
    "Entangle | qureg # entangle\n",
    "Measure | qureg # measure\n",
    "\n",
    "print(\"\\nMeasurement result: {result}\\n\".format(result=[int(qubit) for qubit in qureg]))\n",
    "\n",
    "del qureg"
   ]
  },
  {
   "cell_type": "code",
   "execution_count": null,
   "metadata": {
    "collapsed": true
   },
   "outputs": [],
   "source": []
  }
 ],
 "metadata": {
  "kernelspec": {
   "display_name": "Python 3",
   "language": "python",
   "name": "python3"
  },
  "language_info": {
   "codemirror_mode": {
    "name": "ipython",
    "version": 3
   },
   "file_extension": ".py",
   "mimetype": "text/x-python",
   "name": "python",
   "nbconvert_exporter": "python",
   "pygments_lexer": "ipython3",
   "version": "3.4.3"
  }
 },
 "nbformat": 4,
 "nbformat_minor": 0
}
